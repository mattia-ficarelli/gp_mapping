{
 "cells": [
  {
   "cell_type": "code",
   "execution_count": 10,
   "metadata": {},
   "outputs": [],
   "source": [
    "import urllib.request\n",
    "import pandas as pd\n",
    "import zipfile\n",
    "import geocoder as gcd\n",
    "\n"
   ]
  },
  {
   "cell_type": "code",
   "execution_count": 11,
   "metadata": {},
   "outputs": [],
   "source": [
    "url = 'https://files.digital.nhs.uk/assets/ods/current/epraccur.zip'\n",
    "filehandle, _ = urllib.request.urlretrieve(url)\n",
    "zip_file_object = zipfile.ZipFile(filehandle, 'r')\n",
    "first_file = zip_file_object.namelist()[0]\n",
    "file = zip_file_object.open(first_file)\n",
    "content = file.read()\n",
    "csv_file = open('gp_data.csv', 'wb')\n",
    "csv_file.write(content )\n",
    "csv_file.close()\n",
    "header_list = [\"Organisation Code\", \n",
    "\"Name\", \n",
    "\"National Grouping\", \n",
    "\"High Level Health Geography\", \n",
    "\"Address line 1\", \n",
    "\"Address line 2\", \n",
    "\"Address line 3\", \n",
    "\"Address line 4\", \n",
    "\"Address line 5\",\n",
    "\"Postcode\",\n",
    "\"Open Date\",\n",
    "\"Close Date\",\n",
    "\"Status Code\",\n",
    "\"Organisation Sub-Type Code\",\n",
    "\"Commissioner\",\n",
    "\"Join Provider/Purchaser Date\",\n",
    "\"Left Provider/Purchaser Date\",\n",
    "\"Contact Telephone Number\",\n",
    "\"Null 1\",\n",
    "\"Null 2\",\n",
    "\"Null 3\",\n",
    "\"Amended Record Indicator\",\n",
    "\"Null 4\",\n",
    "\"Provider/Purchaser\",\n",
    "\"Null 5\",\n",
    "\"Prescribing Setting\",\n",
    "\"Null 6\"\n",
    "]\n",
    "gp_practice_df = pd.read_csv('gp_data.csv', names=header_list)"
   ]
  },
  {
   "cell_type": "code",
   "execution_count": 12,
   "metadata": {},
   "outputs": [
    {
     "data": {
      "text/html": "<div>\n<style scoped>\n    .dataframe tbody tr th:only-of-type {\n        vertical-align: middle;\n    }\n\n    .dataframe tbody tr th {\n        vertical-align: top;\n    }\n\n    .dataframe thead th {\n        text-align: right;\n    }\n</style>\n<table border=\"1\" class=\"dataframe\">\n  <thead>\n    <tr style=\"text-align: right;\">\n      <th></th>\n      <th>Organisation Code</th>\n      <th>Name</th>\n      <th>National Grouping</th>\n      <th>Postcode</th>\n      <th>Status Code</th>\n      <th>Prescribing Setting</th>\n    </tr>\n  </thead>\n  <tbody>\n    <tr>\n      <th>0</th>\n      <td>A81001</td>\n      <td>THE DENSHAM SURGERY</td>\n      <td>Y63</td>\n      <td>TS18 1HU</td>\n      <td>A</td>\n      <td>4</td>\n    </tr>\n    <tr>\n      <th>1</th>\n      <td>A81002</td>\n      <td>QUEENS PARK MEDICAL CENTRE</td>\n      <td>Y63</td>\n      <td>TS18 2AW</td>\n      <td>A</td>\n      <td>4</td>\n    </tr>\n    <tr>\n      <th>2</th>\n      <td>A81004</td>\n      <td>ACKLAM MEDICAL CENTRE</td>\n      <td>Y63</td>\n      <td>TS5 8SB</td>\n      <td>A</td>\n      <td>4</td>\n    </tr>\n    <tr>\n      <th>3</th>\n      <td>A81005</td>\n      <td>SPRINGWOOD SURGERY</td>\n      <td>Y63</td>\n      <td>TS14 7DJ</td>\n      <td>A</td>\n      <td>4</td>\n    </tr>\n    <tr>\n      <th>4</th>\n      <td>A81006</td>\n      <td>TENNANT STREET MEDICAL PRACTICE</td>\n      <td>Y63</td>\n      <td>TS18 2AT</td>\n      <td>A</td>\n      <td>4</td>\n    </tr>\n    <tr>\n      <th>...</th>\n      <td>...</td>\n      <td>...</td>\n      <td>...</td>\n      <td>...</td>\n      <td>...</td>\n      <td>...</td>\n    </tr>\n    <tr>\n      <th>6602</th>\n      <td>Y06810</td>\n      <td>WHITEHOUSE HEALTH CENTRE</td>\n      <td>Y61</td>\n      <td>MK8 1EQ</td>\n      <td>A</td>\n      <td>4</td>\n    </tr>\n    <tr>\n      <th>6603</th>\n      <td>Y06957</td>\n      <td>GARDEN PARK SURGERY</td>\n      <td>Y63</td>\n      <td>NE28 0PP</td>\n      <td>A</td>\n      <td>4</td>\n    </tr>\n    <tr>\n      <th>6604</th>\n      <td>Y07014</td>\n      <td>THE BERMUDA &amp; MARLOWE PRACTICE</td>\n      <td>Y59</td>\n      <td>RG24 9DT</td>\n      <td>A</td>\n      <td>4</td>\n    </tr>\n    <tr>\n      <th>6605</th>\n      <td>Y07020</td>\n      <td>LAMBETH HEALTHCARE PRACTICE</td>\n      <td>Y56</td>\n      <td>SE21 8AU</td>\n      <td>A</td>\n      <td>4</td>\n    </tr>\n    <tr>\n      <th>6606</th>\n      <td>Y07024</td>\n      <td>SAS - C&amp;P - MKGP PLUS LTD</td>\n      <td>Y61</td>\n      <td>CB23 8EH</td>\n      <td>A</td>\n      <td>4</td>\n    </tr>\n  </tbody>\n</table>\n<p>6607 rows × 6 columns</p>\n</div>",
      "text/plain": "     Organisation Code                             Name National Grouping  \\\n0               A81001              THE DENSHAM SURGERY               Y63   \n1               A81002       QUEENS PARK MEDICAL CENTRE               Y63   \n2               A81004            ACKLAM MEDICAL CENTRE               Y63   \n3               A81005               SPRINGWOOD SURGERY               Y63   \n4               A81006  TENNANT STREET MEDICAL PRACTICE               Y63   \n...                ...                              ...               ...   \n6602            Y06810         WHITEHOUSE HEALTH CENTRE               Y61   \n6603            Y06957              GARDEN PARK SURGERY               Y63   \n6604            Y07014   THE BERMUDA & MARLOWE PRACTICE               Y59   \n6605            Y07020      LAMBETH HEALTHCARE PRACTICE               Y56   \n6606            Y07024        SAS - C&P - MKGP PLUS LTD               Y61   \n\n      Postcode Status Code  Prescribing Setting  \n0     TS18 1HU           A                    4  \n1     TS18 2AW           A                    4  \n2      TS5 8SB           A                    4  \n3     TS14 7DJ           A                    4  \n4     TS18 2AT           A                    4  \n...        ...         ...                  ...  \n6602   MK8 1EQ           A                    4  \n6603  NE28 0PP           A                    4  \n6604  RG24 9DT           A                    4  \n6605  SE21 8AU           A                    4  \n6606  CB23 8EH           A                    4  \n\n[6607 rows x 6 columns]"
     },
     "execution_count": 12,
     "metadata": {},
     "output_type": "execute_result"
    }
   ],
   "source": [
    "gp_practice_df_1 = gp_practice_df.drop(columns = {\n",
    "\"High Level Health Geography\", \n",
    "\"Address line 1\", \n",
    "\"Address line 2\", \n",
    "\"Address line 3\", \n",
    "\"Address line 4\", \n",
    "\"Address line 5\",\n",
    "\"Open Date\",\n",
    "\"Close Date\",\n",
    "\"Organisation Sub-Type Code\",\n",
    "\"Commissioner\",\n",
    "\"Join Provider/Purchaser Date\",\n",
    "\"Left Provider/Purchaser Date\",\n",
    "\"Contact Telephone Number\",\n",
    "\"Null 1\",\n",
    "\"Null 2\",\n",
    "\"Null 3\",\n",
    "\"Amended Record Indicator\",\n",
    "\"Null 4\",\n",
    "\"Provider/Purchaser\",\n",
    "\"Null 5\",\n",
    "\"Null 6\"})\n",
    "gp_practice_df_2 =  gp_practice_df_1[gp_practice_df_1[\"Status Code\"] == \"A\"]\n",
    "gp_practice_df_3 =  gp_practice_df_2[gp_practice_df_2[\"Prescribing Setting\"] == 4]\n",
    "gp_practice_df_eng = gp_practice_df_3[gp_practice_df_3[\"National Grouping\"].str.contains(\"YAC|YAD|YAE|YAF|W00\")==False]\n",
    "gp_practice_df_eng_1 = gp_practice_df_eng.reset_index(drop = True)\n",
    "gp_practice_df_eng_1"
   ]
  },
  {
   "cell_type": "code",
   "execution_count": 13,
   "metadata": {},
   "outputs": [],
   "source": [
    "def get_geocoder(postal_code_from_df):\n",
    "  lat_lng_coords = None\n",
    "  while(lat_lng_coords is None):\n",
    "    g = gcd.google('{}, England, UK'.format(postal_code_from_df))\n",
    "    lat_lng_coords = g.latlng\n",
    "  latitude = lat_lng_coords[0]\n",
    "  longitude = lat_lng_coords[1]\n",
    "  return latitude,longitude\n",
    "\n",
    "gp_practice_df_eng_1['Latitude'], gp_practice_df_eng_1['Longitude'] = get_geocoder(gp_practice_df_eng_1['Postcode'].values)\n",
    "filename = 'gp_practice_df_eng.csv'\n",
    "gp_practice_df_eng_1.to_csv(filename)"
   ]
  }
 ],
 "metadata": {
  "kernelspec": {
   "display_name": "Python 3.8.8 64-bit ('base': conda)",
   "name": "python388jvsc74a57bd03b292ef66d9560a1d3be7d320fd9b3253b0176412dc373d1feb203e357cf3bb4"
  },
  "language_info": {
   "codemirror_mode": {
    "name": "ipython",
    "version": 3
   },
   "file_extension": ".py",
   "mimetype": "text/x-python",
   "name": "python",
   "nbconvert_exporter": "python",
   "pygments_lexer": "ipython3",
   "version": "3.8.8"
  },
  "orig_nbformat": 2
 },
 "nbformat": 4,
 "nbformat_minor": 2
}